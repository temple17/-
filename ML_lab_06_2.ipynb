{
  "nbformat": 4,
  "nbformat_minor": 0,
  "metadata": {
    "colab": {
      "name": "ML lab 06-2.ipynb",
      "provenance": [],
      "collapsed_sections": [],
      "mount_file_id": "1X-vEf4qUs8urbGT4kSb91hYN0aW02ze_",
      "authorship_tag": "ABX9TyNSJfKNtldNoI0lm1dzugk7",
      "include_colab_link": true
    },
    "kernelspec": {
      "name": "python3",
      "display_name": "Python 3"
    },
    "language_info": {
      "name": "python"
    },
    "accelerator": "GPU",
    "gpuClass": "standard"
  },
  "cells": [
    {
      "cell_type": "markdown",
      "metadata": {
        "id": "view-in-github",
        "colab_type": "text"
      },
      "source": [
        "<a href=\"https://colab.research.google.com/github/temple17/DeepLearningZeroToAll_tf2/blob/main/ML_lab_06_2.ipynb\" target=\"_parent\"><img src=\"https://colab.research.google.com/assets/colab-badge.svg\" alt=\"Open In Colab\"/></a>"
      ]
    },
    {
      "cell_type": "markdown",
      "source": [
        "# Animal classification with softmax_cross_entropy_with logits"
      ],
      "metadata": {
        "id": "ybO5a4bEFY7P"
      }
    },
    {
      "cell_type": "code",
      "source": [
        "# Lab 6 Softmax Classifier\n",
        "import tensorflow as tf\n",
        "import numpy as np\n",
        "\n",
        "tf.random.set_seed(777) # for reproducibility\n",
        "\n",
        "xy = np.loadtxt('/content/drive/MyDrive/모두를 위한 딥러닝/data-04-zoo.csv', delimiter=',', dtype=np.float32)"
      ],
      "metadata": {
        "id": "mvNqi8lFGV2v"
      },
      "execution_count": null,
      "outputs": []
    },
    {
      "cell_type": "code",
      "source": [
        "print(xy.shape)"
      ],
      "metadata": {
        "colab": {
          "base_uri": "https://localhost:8080/"
        },
        "id": "yyYRlYacKZY3",
        "outputId": "3f4342dc-9929-423b-d54a-8331cd3dc81e"
      },
      "execution_count": null,
      "outputs": [
        {
          "output_type": "stream",
          "name": "stdout",
          "text": [
            "(101, 17)\n"
          ]
        }
      ]
    },
    {
      "cell_type": "code",
      "source": [
        "x_data = xy[:, 0:-1]\n",
        "y_data = xy[:, [-1]]"
      ],
      "metadata": {
        "id": "MoP9-ox3JlUH"
      },
      "execution_count": null,
      "outputs": []
    },
    {
      "cell_type": "code",
      "source": [
        "print(x_data.shape, y_data.shape)"
      ],
      "metadata": {
        "colab": {
          "base_uri": "https://localhost:8080/"
        },
        "id": "EvS5JOvoKA56",
        "outputId": "4c893286-a8c1-4a5e-a7c0-b7bb96699e93"
      },
      "execution_count": null,
      "outputs": [
        {
          "output_type": "stream",
          "name": "stdout",
          "text": [
            "(101, 16) (101, 1)\n"
          ]
        }
      ]
    },
    {
      "cell_type": "code",
      "source": [
        "# total categories\n",
        "nb_classes = 7 # 0~6\n",
        "\n",
        "# Make Y data as onehot shape\n",
        "Y_one_hot = tf.one_hot(y_data.astype(np.int32), nb_classes)\n",
        "Y_one_hot = tf.reshape(Y_one_hot, [-1, nb_classes])\n",
        "\n",
        "print(x_data.shape, Y_one_hot.shape)"
      ],
      "metadata": {
        "colab": {
          "base_uri": "https://localhost:8080/"
        },
        "id": "cNJJDT_2KDOV",
        "outputId": "934492f2-81c5-4f22-82b9-b3e8f8ba1773"
      },
      "execution_count": null,
      "outputs": [
        {
          "output_type": "stream",
          "name": "stdout",
          "text": [
            "(101, 16) (101, 7)\n"
          ]
        }
      ]
    },
    {
      "cell_type": "code",
      "source": [
        "# Weight and bias setting\n",
        "W = tf.Variable(tf.random.normal([16, nb_classes], name = 'weight'))\n",
        "b = tf.Variable(tf.random.normal([nb_classes]), name='bias')\n",
        "\n",
        "variables = [W,b]\n",
        "\n",
        "# tf.nn.softmax computes softmax activations\n",
        "# softmax = exp(logits) / reduce_sum(exp(logits), dim)\n",
        "\n",
        "def logit_fn(X):\n",
        "    return tf.matmul(X, W) + b\n",
        "\n",
        "def hypothesis(X):\n",
        "    return tf.nn.softmax(logit_fn(X))\n",
        "\n",
        "def cost_fn(X, Y):\n",
        "    logits = logit_fn(X)\n",
        "    cost_i = tf.keras.losses.categorical_crossentropy(y_true=Y, y_pred=logits, from_logits=True)\n",
        "    cost = tf.reduce_mean(cost_i)\n",
        "\n",
        "    return cost\n",
        "\n",
        "def grad_fn(X, Y):\n",
        "    with tf.GradientTape() as tape:\n",
        "        loss = cost_fn(X, Y)\n",
        "        grads = tape.gradient(loss, variables)\n",
        "        return grads\n",
        "    \n",
        "def prediction(X, Y):\n",
        "    pred = tf.argmax(hypothesis(X), 1)\n",
        "    correct_prediction = tf.equal(pred, tf.argmax(Y, 1))\n",
        "    accuracy = tf.reduce_mean(tf.cast(correct_prediction, tf.float32))\n",
        "\n",
        "    return accuracy"
      ],
      "metadata": {
        "id": "tS9dmPu2LkCk"
      },
      "execution_count": null,
      "outputs": []
    },
    {
      "cell_type": "code",
      "source": [
        "def fit(X, Y, epochs=1000, verbose = 100):\n",
        "    optimizer = tf.keras.optimizers.SGD(learning_rate = 0.1)\n",
        "\n",
        "    for i in range(epochs):\n",
        "        grads = grad_fn(X, Y)\n",
        "        optimizer.apply_gradients(zip(grads, variables))\n",
        "        if (i==0) | ((i+1)%verbose==0):\n",
        "            #print('Loss at epoch %d: %f' %(i+1, cost_fn(X, Y).numpy()))\n",
        "            acc = prediction(X, Y).numpy()\n",
        "            loss = cost_fn(X, Y).numpy()\n",
        "            print('Steps: {} Loss: {}, Acc: {}'.format(i+1, loss, acc))\n",
        "fit(x_data, Y_one_hot)"
      ],
      "metadata": {
        "colab": {
          "base_uri": "https://localhost:8080/"
        },
        "id": "M3qWWKkdNadS",
        "outputId": "0e154c64-f80f-47b4-8ca7-1b7e72ec1bba"
      },
      "execution_count": null,
      "outputs": [
        {
          "output_type": "stream",
          "name": "stdout",
          "text": [
            "Steps: 1 Loss: 5.610101222991943, Acc: 0.1683168262243271\n",
            "Steps: 100 Loss: 0.6019306182861328, Acc: 0.8415841460227966\n",
            "Steps: 200 Loss: 0.38190871477127075, Acc: 0.9108911156654358\n",
            "Steps: 300 Loss: 0.2877010107040405, Acc: 0.9405940771102905\n",
            "Steps: 400 Loss: 0.23101472854614258, Acc: 0.9504950642585754\n",
            "Steps: 500 Loss: 0.19246311485767365, Acc: 0.9603960514068604\n",
            "Steps: 600 Loss: 0.16442003846168518, Acc: 0.9603960514068604\n",
            "Steps: 700 Loss: 0.14311200380325317, Acc: 0.9603960514068604\n",
            "Steps: 800 Loss: 0.12642519176006317, Acc: 0.9603960514068604\n",
            "Steps: 900 Loss: 0.11306188255548477, Acc: 0.9900990128517151\n",
            "Steps: 1000 Loss: 0.10216663777828217, Acc: 0.9900990128517151\n"
          ]
        }
      ]
    },
    {
      "cell_type": "code",
      "source": [
        ""
      ],
      "metadata": {
        "id": "GYHc7-BwOKYB"
      },
      "execution_count": null,
      "outputs": []
    }
  ]
}